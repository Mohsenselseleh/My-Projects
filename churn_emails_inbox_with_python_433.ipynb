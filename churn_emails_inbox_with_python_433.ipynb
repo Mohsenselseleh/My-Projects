{
 "cells": [
  {
   "cell_type": "code",
   "execution_count": 1,
   "metadata": {},
   "outputs": [],
   "source": [
    "def number_of_lines():\n",
    "    fhand = open('/cxldata/datasets/project/mbox-short.txt')\n",
    "    inp = fhand.read()\n",
    "    fhand.close()\n",
    "    count = 0\n",
    "    for c in inp:\n",
    "        if c == '\\n':\n",
    "            count += 1\n",
    "    return count"
   ]
  },
  {
   "cell_type": "code",
   "execution_count": 4,
   "metadata": {},
   "outputs": [],
   "source": [
    "def count_number_of_lines():\n",
    "    with open('/cxldata/datasets/project/mbox-short.txt') as f:\n",
    "        count = 0\n",
    "        for line in f:\n",
    "            line = line.rstrip() # Remove new line characters from right\n",
    "            if line.startswith('Subject:'):\n",
    "                count = count + 1\n",
    "    return count"
   ]
  },
  {
   "cell_type": "code",
   "execution_count": 9,
   "metadata": {},
   "outputs": [],
   "source": [
    "def average_spam_confidence():\n",
    "    with open('/cxldata/datasets/project/mbox-short.txt') as f:\n",
    "        count = 0\n",
    "        spam_confidence_sum = 0\n",
    "        for line in f:\n",
    "            line = line.rstrip() # Remove new line characters from right\n",
    "            if line.startswith('X-DSPAM-Confidence:'):\n",
    "                var, value = line.split(':')\n",
    "                spam_confidence_sum = spam_confidence_sum + float(value)\n",
    "                count = count + 1\n",
    "    return spam_confidence_sum/count"
   ]
  },
  {
   "cell_type": "code",
   "execution_count": 12,
   "metadata": {},
   "outputs": [],
   "source": [
    "def find_email_sent_days():\n",
    "    daysdict = {}\n",
    "    dayslist = []\n",
    "\n",
    "    with open(\"/cxldata/datasets/project/mbox-short.txt\") as f:\n",
    "        for line in f:\n",
    "            dayslist = line.split()\n",
    "            if len(dayslist) > 3 and line.startswith('From'):\n",
    "                day = dayslist[2]\n",
    "                if day not in daysdict:\n",
    "                    daysdict[day] = 1\n",
    "                else:\n",
    "                    daysdict[day] += 1\n",
    "    return daysdict"
   ]
  },
  {
   "cell_type": "code",
   "execution_count": 17,
   "metadata": {},
   "outputs": [],
   "source": [
    "def count_message_from_email():\n",
    "    lineslist=[]\n",
    "    emaildict={}\n",
    "    with open(\"/cxldata/datasets/project/mbox-short.txt\") as f:\n",
    "      for line in f:\n",
    "        lineslist = line.split()\n",
    "        if line.startswith('From:'):\n",
    "          email=lineslist[1]\n",
    "          if email not in emaildict:\n",
    "            emaildict[email] = 1\n",
    "          else:\n",
    "            emaildict[email] += 1\n",
    "    return emaildict"
   ]
  },
  {
   "cell_type": "code",
   "execution_count": 18,
   "metadata": {},
   "outputs": [],
   "source": [
    "def count_message_from_domain():\n",
    "    lineslist=[]\n",
    "    domaindict={}\n",
    "    with open(\"/cxldata/datasets/project/mbox-short.txt\") as f:\n",
    "        for line in f:\n",
    "            lineslist = line.split()\n",
    "            if line.startswith('From:'):\n",
    "                email=lineslist[1]\n",
    "                domain = email.split('@')[1] \n",
    "                if domain not in domaindict:\n",
    "                    domaindict[domain] = 1\n",
    "                else:\n",
    "                    domaindict[domain] += 1\n",
    "    return domaindict"
   ]
  },
  {
   "cell_type": "code",
   "execution_count": null,
   "metadata": {},
   "outputs": [],
   "source": []
  }
 ],
 "metadata": {
  "kernelspec": {
   "display_name": "Python 3",
   "language": "python",
   "name": "python3"
  },
  "language_info": {
   "codemirror_mode": {
    "name": "ipython",
    "version": 3
   },
   "file_extension": ".py",
   "mimetype": "text/x-python",
   "name": "python",
   "nbconvert_exporter": "python",
   "pygments_lexer": "ipython3",
   "version": "3.6.8"
  },
  "toc": {
   "base_numbering": 1,
   "nav_menu": {},
   "number_sections": true,
   "sideBar": true,
   "skip_h1_title": false,
   "title_cell": "Table of Contents",
   "title_sidebar": "Contents",
   "toc_cell": false,
   "toc_position": {},
   "toc_section_display": true,
   "toc_window_display": false
  }
 },
 "nbformat": 4,
 "nbformat_minor": 2
}
